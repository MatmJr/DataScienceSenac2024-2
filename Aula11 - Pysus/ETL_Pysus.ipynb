{
  "nbformat": 4,
  "nbformat_minor": 0,
  "metadata": {
    "colab": {
      "provenance": []
    },
    "kernelspec": {
      "name": "python3",
      "display_name": "Python 3"
    },
    "language_info": {
      "name": "python"
    }
  },
  "cells": [
    {
      "cell_type": "code",
      "execution_count": null,
      "metadata": {
        "colab": {
          "base_uri": "https://localhost:8080/"
        },
        "id": "wLZMSQOYOxjo",
        "outputId": "ce7e96ec-2caf-46e3-af82-7dc20e60740f"
      },
      "outputs": [
        {
          "output_type": "stream",
          "name": "stdout",
          "text": [
            "\u001b[33mWARNING: elasticsearch 7.16.2 does not provide the extra 'preprocessing'\u001b[0m\u001b[33m\n",
            "\u001b[0m"
          ]
        }
      ],
      "source": [
        "!pip install pysus -q"
      ]
    },
    {
      "cell_type": "code",
      "source": [
        "from pysus.ftp.databases.sih import SIH\n",
        "import pandas as pd\n",
        "\n",
        "\n",
        "sih = SIH().load()\n",
        "\n",
        "files = sih.get_files(\"RD\", uf=\"PE\", year=2024, month=[1,2,3])\n",
        "data = sih.download(files)\n"
      ],
      "metadata": {
        "id": "jsAd1VOiPQig",
        "colab": {
          "base_uri": "https://localhost:8080/"
        },
        "outputId": "2f2cf1e9-32bf-4778-906b-11a9c4cedf90"
      },
      "execution_count": null,
      "outputs": [
        {
          "output_type": "stream",
          "name": "stderr",
          "text": [
            "100%|██████████| 3.98M/3.98M [00:00<00:00, 1.15GB/s]\n"
          ]
        }
      ]
    },
    {
      "cell_type": "code",
      "source": [
        "sih.metadata['description']"
      ],
      "metadata": {
        "colab": {
          "base_uri": "https://localhost:8080/",
          "height": 109
        },
        "id": "q2do5RrZP9WL",
        "outputId": "32e94b2b-3433-49e4-a14b-425396272689"
      },
      "execution_count": null,
      "outputs": [
        {
          "output_type": "execute_result",
          "data": {
            "text/plain": [
              "'A finalidade do AIH (Sistema SIHSUS) é a de transcrever todos os atendimentos que provenientes de internações hospitalares que foram financiadas pelo SUS, e após o processamento, gerarem relatórios para os gestores que lhes possibilitem fazer os pagamentos dos estabelecimentos de saúde. Além disso, o nível Federal recebe mensalmente uma base de dados de todas as internações autorizadas (aprovadas ou não para pagamento) para que possam ser repassados às Secretarias de Saúde os valores de Produção de Média e Alta complexidade além dos valores de CNRAC, FAEC e de Hospitais Universitários – em suas variadas formas de contrato de gestão.'"
            ],
            "application/vnd.google.colaboratory.intrinsic+json": {
              "type": "string"
            }
          },
          "metadata": {},
          "execution_count": 6
        }
      ]
    },
    {
      "cell_type": "code",
      "source": [
        "sih.groups"
      ],
      "metadata": {
        "colab": {
          "base_uri": "https://localhost:8080/"
        },
        "id": "_Zw64ekYQo32",
        "outputId": "dc6cb6d7-f939-460a-9cf0-cefea5012a64"
      },
      "execution_count": null,
      "outputs": [
        {
          "output_type": "execute_result",
          "data": {
            "text/plain": [
              "{'RD': 'AIH Reduzida',\n",
              " 'RJ': 'AIH Rejeitada',\n",
              " 'ER': 'AIH Rejeitada com erro',\n",
              " 'SP': 'Serviços Profissionais',\n",
              " 'CH': 'Cadastro Hospitalar',\n",
              " 'CM': ''}"
            ]
          },
          "metadata": {},
          "execution_count": 7
        }
      ]
    },
    {
      "cell_type": "code",
      "source": [
        "files = sih.get_files(\"RD\", uf=\"PE\", year=2024, month=[1,2,3])\n",
        "data = sih.download(files)"
      ],
      "metadata": {
        "colab": {
          "base_uri": "https://localhost:8080/"
        },
        "id": "JeyLUyjjQwL0",
        "outputId": "cf983f5a-e0d9-4966-d76c-ea9717030f45"
      },
      "execution_count": null,
      "outputs": [
        {
          "output_type": "stream",
          "name": "stderr",
          "text": [
            "100%|██████████| 3.98M/3.98M [00:00<00:00, 1.31GB/s]\n"
          ]
        }
      ]
    },
    {
      "cell_type": "code",
      "source": [
        "data"
      ],
      "metadata": {
        "colab": {
          "base_uri": "https://localhost:8080/"
        },
        "id": "qeh4_6DESRpu",
        "outputId": "92928c24-cae3-437d-9a7c-31459e3368e5"
      },
      "execution_count": null,
      "outputs": [
        {
          "output_type": "execute_result",
          "data": {
            "text/plain": [
              "[/root/pysus/RDPE2401.parquet,\n",
              " /root/pysus/RDPE2402.parquet,\n",
              " /root/pysus/RDPE2403.parquet]"
            ]
          },
          "metadata": {},
          "execution_count": 9
        }
      ]
    },
    {
      "cell_type": "code",
      "source": [
        "import pandas as pd\n",
        "\n",
        "data_list = []\n",
        "for i in range(len(data)):\n",
        "  df = data[i].to_dataframe()\n",
        "  data_list.append(df)"
      ],
      "metadata": {
        "id": "XQUWtKaFRYq5"
      },
      "execution_count": null,
      "outputs": []
    },
    {
      "cell_type": "code",
      "source": [
        "data_list"
      ],
      "metadata": {
        "colab": {
          "base_uri": "https://localhost:8080/"
        },
        "id": "N6JgOAwzRkj6",
        "outputId": "8a0d232d-de36-4db3-cf63-61f85c3c7294"
      },
      "execution_count": null,
      "outputs": [
        {
          "output_type": "execute_result",
          "data": {
            "text/plain": [
              "[        UF_ZI ANO_CMPT MES_CMPT ESPEC        CGC_HOSP          N_AIH IDENT  \\\n",
              " 0      260000     2024       01    02  10988301000129  2624103480966     1   \n",
              " 1      260000     2024       01    02  10988301000129  2624103480977     1   \n",
              " 2      260000     2024       01    02  10988301000129  2624103480988     1   \n",
              " 3      260000     2024       01    02                  2624105937838     1   \n",
              " 4      260000     2024       01    02                  2624105937849     1   \n",
              " ...       ...      ...      ...   ...             ...            ...   ...   \n",
              " 50168  261640     2024       01    01  11866365000110  2624109208732     1   \n",
              " 50169  261640     2024       01    01  11866365000110  2624109208743     1   \n",
              " 50170  261640     2024       01    01  11866365000110  2624109208754     1   \n",
              " 50171  261640     2024       01    01  11866365000110  2624109208765     1   \n",
              " 50172  261640     2024       01    03  11866365000110  2624109210085     1   \n",
              " \n",
              "             CEP MUNIC_RES      NASC  ...  DIAGSEC9 TPDISEC1 TPDISEC2 TPDISEC3  \\\n",
              " 0      54315460    260790  19900409  ...                  0        0        0   \n",
              " 1      50080050    261160  19920522  ...                  0        0        0   \n",
              " 2      56460000    261100  19960729  ...                  0        0        0   \n",
              " 3      56313010    261110  19980618  ...                  0        0        0   \n",
              " 4      56302970    261110  19930324  ...                  1        0        0   \n",
              " ...         ...       ...       ...  ...       ...      ...      ...      ...   \n",
              " 50168  55655000    260490  19840902  ...                  0        0        0   \n",
              " 50169  55608510    261640  19791115  ...                  0        0        0   \n",
              " 50170  55607360    261640  19790813  ...                  0        0        0   \n",
              " 50171  55614597    261640  19591007  ...                  0        0        0   \n",
              " 50172  55614195    261640  19520729  ...                  0        0        0   \n",
              " \n",
              "       TPDISEC4 TPDISEC5 TPDISEC6 TPDISEC7 TPDISEC8 TPDISEC9  \n",
              " 0            0        0        0        0        0        0  \n",
              " 1            0        0        0        0        0        0  \n",
              " 2            0        0        0        0        0        0  \n",
              " 3            0        0        0        0        0        0  \n",
              " 4            0        0        0        0        0        0  \n",
              " ...        ...      ...      ...      ...      ...      ...  \n",
              " 50168        0        0        0        0        0        0  \n",
              " 50169        0        0        0        0        0        0  \n",
              " 50170        0        0        0        0        0        0  \n",
              " 50171        0        0        0        0        0        0  \n",
              " 50172        0        0        0        0        0        0  \n",
              " \n",
              " [50173 rows x 113 columns],\n",
              "         UF_ZI ANO_CMPT MES_CMPT ESPEC CGC_HOSP          N_AIH IDENT       CEP  \\\n",
              " 0      260000     2024       02    02           2624105950455     1  56302080   \n",
              " 1      260000     2024       02    02           2624105950477     1  47220970   \n",
              " 2      260000     2024       02    02           2624105950488     1  56355000   \n",
              " 3      260000     2024       02    02           2624105950500     1  48903901   \n",
              " 4      260000     2024       02    02           2624105950521     1  56302160   \n",
              " ...       ...      ...      ...   ...      ...            ...   ...       ...   \n",
              " 49332  260000     2024       02    02           2624105948926     1  56302080   \n",
              " 49333  260000     2024       02    02           2624105948937     1  47310000   \n",
              " 49334  260000     2024       02    02           2624105948948     1  56322260   \n",
              " 49335  260000     2024       02    02           2624105948959     1  48904719   \n",
              " 49336  260000     2024       02    02           2624105950444     1  56316520   \n",
              " \n",
              "       MUNIC_RES      NASC  ...  DIAGSEC9 TPDISEC1 TPDISEC2 TPDISEC3 TPDISEC4  \\\n",
              " 0        261110  20030302  ...                  1        0        0        0   \n",
              " 1        290590  19970402  ...                  1        0        0        0   \n",
              " 2        260515  19930111  ...                  1        0        0        0   \n",
              " 3        291840  19970315  ...                  1        1        1        0   \n",
              " 4        261110  19981126  ...                  1        0        0        0   \n",
              " ...         ...       ...  ...       ...      ...      ...      ...      ...   \n",
              " 49332    261110  19870517  ...                  0        0        0        0   \n",
              " 49333    290720  19911220  ...                  0        0        0        0   \n",
              " 49334    261110  20060704  ...                  0        0        0        0   \n",
              " 49335    291840  19950529  ...                  0        0        0        0   \n",
              " 49336    261110  19990407  ...                  1        1        0        0   \n",
              " \n",
              "       TPDISEC5 TPDISEC6 TPDISEC7 TPDISEC8 TPDISEC9  \n",
              " 0            0        0        0        0        0  \n",
              " 1            0        0        0        0        0  \n",
              " 2            0        0        0        0        0  \n",
              " 3            0        0        0        0        0  \n",
              " 4            0        0        0        0        0  \n",
              " ...        ...      ...      ...      ...      ...  \n",
              " 49332        0        0        0        0        0  \n",
              " 49333        0        0        0        0        0  \n",
              " 49334        0        0        0        0        0  \n",
              " 49335        0        0        0        0        0  \n",
              " 49336        0        0        0        0        0  \n",
              " \n",
              " [49337 rows x 113 columns],\n",
              "         UF_ZI ANO_CMPT MES_CMPT ESPEC        CGC_HOSP          N_AIH IDENT  \\\n",
              " 0      260000     2024       03    07  10572048003810  2624105677534     1   \n",
              " 1      260000     2024       03    07  10572048003810  2624105677545     1   \n",
              " 2      260000     2024       03    07  10572048003810  2624105677556     1   \n",
              " 3      260000     2024       03    07  10572048003810  2624105677567     1   \n",
              " 4      260000     2024       03    07  10572048003810  2624105677963     1   \n",
              " ...       ...      ...      ...   ...             ...            ...   ...   \n",
              " 54419  260000     2024       03    03  10572048003810  2624105688314     1   \n",
              " 54420  260000     2024       03    03  10572048003810  2624105688325     1   \n",
              " 54421  260000     2024       03    03  10572048003810  2624105688336     1   \n",
              " 54422  260000     2024       03    07  10572048003810  2624105677512     1   \n",
              " 54423  260000     2024       03    07  10572048003810  2624105677523     1   \n",
              " \n",
              "             CEP MUNIC_RES      NASC  ...  DIAGSEC9 TPDISEC1 TPDISEC2 TPDISEC3  \\\n",
              " 0      56600000    261410  20181213  ...                  1        0        0   \n",
              " 1      56560000    260700  20150414  ...                  1        2        0   \n",
              " 2      56512600    260120  20230222  ...                  1        0        0   \n",
              " 3      56520000    260280  20181203  ...                  0        0        0   \n",
              " 4      55340000    260050  20220305  ...                  1        0        0   \n",
              " ...         ...       ...       ...  ...       ...      ...      ...      ...   \n",
              " 54419  56516050    260120  19770602  ...                  1        0        0   \n",
              " 54420  55260000    260060  19810313  ...                  1        0        0   \n",
              " 54421  56580000    260660  20081111  ...                  1        1        0   \n",
              " 54422  56511040    260120  20131130  ...                  1        0        0   \n",
              " 54423  55340000    260050  20240301  ...                  0        0        0   \n",
              " \n",
              "       TPDISEC4 TPDISEC5 TPDISEC6 TPDISEC7 TPDISEC8 TPDISEC9  \n",
              " 0            0        0        0        0        0        0  \n",
              " 1            0        0        0        0        0        0  \n",
              " 2            0        0        0        0        0        0  \n",
              " 3            0        0        0        0        0        0  \n",
              " 4            0        0        0        0        0        0  \n",
              " ...        ...      ...      ...      ...      ...      ...  \n",
              " 54419        0        0        0        0        0        0  \n",
              " 54420        0        0        0        0        0        0  \n",
              " 54421        0        0        0        0        0        0  \n",
              " 54422        0        0        0        0        0        0  \n",
              " 54423        0        0        0        0        0        0  \n",
              " \n",
              " [54424 rows x 113 columns]]"
            ]
          },
          "metadata": {},
          "execution_count": 11
        }
      ]
    },
    {
      "cell_type": "code",
      "source": [
        "df_final = pd.concat(data_list, ignore_index=True)"
      ],
      "metadata": {
        "id": "LFYjCmd3Th30"
      },
      "execution_count": null,
      "outputs": []
    },
    {
      "cell_type": "code",
      "source": [],
      "metadata": {
        "id": "kGeOAZqiTsBK"
      },
      "execution_count": null,
      "outputs": []
    }
  ]
}