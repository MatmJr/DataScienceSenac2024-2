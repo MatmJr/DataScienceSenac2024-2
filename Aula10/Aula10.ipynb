{
  "cells": [
    {
      "cell_type": "markdown",
      "metadata": {},
      "source": [
        "# Data Wrangling\n",
        "\n",
        "O processo de preparar dados para análise é chamado de \"data wrangling\" e geralmente ocupa a maior parte do tempo de um analista em um projeto de dados. Alguns dos problemas comuns incluem:\n",
        "\n",
        "- Dados ausentes ou valores incorretos/problemas no conjunto de dados;\n",
        "- Dados formatados de maneira inadequada, impedindo o trabalho adequado do analista;\n",
        "- Dados distribuídos em vários arquivos ou tabelas;\n",
        "- Dados no formato incorreto para análise e visualização.\n",
        "\n",
        "Você está aprendendo a trabalhar com o pandas porque ele pode lidar com todas essas tarefas de forma flexível. Nesta aula, abordaremos exemplos básicos de como isso funciona. O dataset utilizado será o College Scorecard, do Departamento de Educação dos EUA."
      ]
    },
    {
      "cell_type": "code",
      "execution_count": 4,
      "metadata": {
        "colab": {
          "base_uri": "https://localhost:8080/"
        },
        "id": "YZ6lYP2F63bJ",
        "outputId": "0d16d300-9c35-45c3-cc7a-fb89d159cf12"
      },
      "outputs": [
        {
          "data": {
            "text/plain": [
              "(7804, 122)"
            ]
          },
          "execution_count": 4,
          "metadata": {},
          "output_type": "execute_result"
        }
      ],
      "source": [
        "import pandas as pd\n",
        "\n",
        "url = 'http://personal.tcu.edu/kylewalker/data/colleges.csv'\n",
        "data = pd.read_csv(url, encoding = 'latin_1')\n",
        "data.shape"
      ]
    },
    {
      "cell_type": "markdown",
      "metadata": {},
      "source": [
        "Observamos que nosso conjunto de dados possui mais de 7800 linhas e 122 colunas! Neste ponto, embora você ainda não saiba quais insights estão contidos nos dados, já deve ter uma ideia das perguntas de pesquisa que lhe interessam. Como essas perguntas provavelmente não exigem todas as 122 colunas, é seguro restringir o conjunto de dados apenas às colunas necessárias para sua análise. Nossa principal pergunta de pesquisa é:\n",
        "\n",
        "**Como a proporção de estudantes alunos de graduação com 25 anos ou mais varia entre faculdades e universidades que possuem bacharelado?**\n",
        "\n",
        "Para responder a essa pergunta, precisamos identificar algumas colunas essenciais e filtrar os dados de acordo. As colunas que manteremos são as seguintes:\n",
        "\n",
        "- **INSTNM**: Nome da instituição;\n",
        "- **STABBR**: Estado onde a instituição está localizada;\n",
        "- **PREDDEG**: Tipo principal de diploma concedido pela instituição (códigos: 1 para certificados, 2 para diplomas de associado, 3 para bacharelados e 4 para pós-graduação);\n",
        "- **CONTROL**: Propriedade da instituição (códigos: 1 para pública sem fins lucrativos, 2 para privada sem fins lucrativos, e 3 para privada com fins lucrativos);\n",
        "- **UGDS**: Número de alunos de graduação matriculados na instituição;\n",
        "- **UG25abv**: Percentual de alunos de graduação com 25 anos ou mais na instituição.\n"
      ]
    },
    {
      "cell_type": "code",
      "execution_count": 5,
      "metadata": {},
      "outputs": [],
      "source": []
    },
    {
      "cell_type": "markdown",
      "metadata": {},
      "source": [
        "Existem, pequenas coisas que você pode fazer no DataFrame diretamente para facilitar o trabalho. Por exemplo, não quero ter que ativar o Caps Lock ou pressionar Shift toda vez que digitar nomes de colunas, mas os nomes das colunas no meu DataFrame estão em maiúsculas. Como os nomes das colunas são simplesmente uma lista de strings, podemos usar métodos de string para manipulá-las. Podemos, por exemplo, usar compreensão de lista para converter todos os nomes de colunas em minúsculas:"
      ]
    },
    {
      "cell_type": "code",
      "execution_count": null,
      "metadata": {},
      "outputs": [],
      "source": []
    },
    {
      "cell_type": "markdown",
      "metadata": {},
      "source": [
        "Também podemos modificar os nomes das colunas do DataFrame individualmente ou passando uma lista de novos nomes. Por exemplo, \"state\" faz mais sentido do que \"stabbr\" e \"institution\" é mais claro do que \"instnm\". O código abaixo realiza essas mudanças:"
      ]
    },
    {
      "cell_type": "code",
      "execution_count": null,
      "metadata": {},
      "outputs": [],
      "source": []
    },
    {
      "cell_type": "markdown",
      "metadata": {},
      "source": [
        "O método rename usa um dicionário para fazer as alterações nas colunas. Como é uma mudança menor, utilizamos inplace=True para modificar o DataFrame diretamente.\n",
        "\n",
        "Agora, queremos filtrar os dados para universidades que concedem bacharelado (código 3 na coluna preddeg). Primeiro, verificamos o tipo de dado dessa coluna com:"
      ]
    },
    {
      "cell_type": "code",
      "execution_count": null,
      "metadata": {},
      "outputs": [],
      "source": []
    },
    {
      "cell_type": "markdown",
      "metadata": {},
      "source": [
        "A coluna `preddeg` parece ser um número inteiro, então trabalharemos com seus valores como números. Nas aulas passadas usamos :\n",
        "\n",
        "```python\n",
        "new_df = df[df['preddeg']==3]\n",
        "\n",
        "```\n",
        "Para filtrar linhas no pandas, podemos usar o método `.query()`, que avalia uma expressão com operadores lógicos/booleanos. O método retorna as linhas onde a expressão é verdadeira e descarta as demais. Neste caso, queremos as linhas onde `preddeg` é igual a 3. Vamos criar um novo DataFrame chamado `new_df` com essa expressão:"
      ]
    },
    {
      "cell_type": "code",
      "execution_count": null,
      "metadata": {},
      "outputs": [],
      "source": []
    },
    {
      "cell_type": "markdown",
      "metadata": {},
      "source": [
        "No pandas, dados ausentes podem ser representados como NaN (do NumPy) ou None (do Python). Para detectar esses valores, podemos usar os métodos .isnull() ou .isna(). Vamos consultar nosso DataFrame de graduação (new_df) para verificar quantas linhas possuem valores ausentes na coluna ug25abv. Podemos usar o argumento engine='python' para executar o método dentro da expressão:"
      ]
    },
    {
      "cell_type": "code",
      "execution_count": null,
      "metadata": {},
      "outputs": [],
      "source": []
    },
    {
      "cell_type": "markdown",
      "metadata": {},
      "source": [
        "E os valores não nulos:"
      ]
    },
    {
      "cell_type": "code",
      "execution_count": null,
      "metadata": {},
      "outputs": [],
      "source": []
    },
    {
      "cell_type": "markdown",
      "metadata": {},
      "source": [
        "Uma abodagem muito importante em análise de dadoos é a \"split-apply-combine\", que envolve:\n",
        "\n",
        "1. Dividir os dados em grupos com base em uma característica comum;\n",
        "2. Aplicar uma função a cada grupo;\n",
        "3. Combinar os resultados para permitir comparações entre grupos.\n",
        "\n",
        "Essa abordagem é muito poderosa e comum na análise de dados. Vamos usar essa técnica para responder à seguinte pergunta:\n",
        "\n",
        "- Como a proporção de estudantes de graduação acima de 25 anos varia entre universidades públicas, privadas e com fins lucrativos?\n",
        "\n",
        "A análise por grupo no pandas é feita criando um objeto `groupby`. Para a primeira pergunta, agruparemos os dados por tipo de instituição. O código abaixo faz isso:"
      ]
    },
    {
      "cell_type": "code",
      "execution_count": null,
      "metadata": {},
      "outputs": [],
      "source": []
    },
    {
      "cell_type": "code",
      "execution_count": null,
      "metadata": {},
      "outputs": [],
      "source": []
    },
    {
      "cell_type": "markdown",
      "metadata": {},
      "source": [
        "Muito interessante — enquanto universidades públicas e privadas sem fins lucrativos têm composições de idade semelhantes, com 21-23% de seus alunos acima de 25 anos, as universidades privadas com fins lucrativos são bem diferentes, com mais de dois terços dos alunos nessa faixa etária.\n",
        "\n",
        "Vamos visualizar isso usando o Seaborn, que é ótimo para análises por grupo. Gráficos como box plots e violin plots podem ser usados para comparar grupos, bastando especificar uma segunda coluna para o gráfico.\n",
        "\n",
        "Exemplo de como fazer isso:"
      ]
    },
    {
      "cell_type": "code",
      "execution_count": null,
      "metadata": {},
      "outputs": [],
      "source": []
    },
    {
      "cell_type": "markdown",
      "metadata": {},
      "source": [
        "Aqui podemos ver claramente as variações nas distribuições entre os grupos. Embora a média de estudantes acima de 25 anos nas instituições públicas sem fins lucrativos seja menor do que nas privadas sem fins lucrativos, parece que a mediana nas privadas sem fins lucrativos é ainda mais baixa, com uma cauda mais longa de instituições com uma grande proporção de alunos acima de 25 anos. Já nas privadas com fins lucrativos, a mediana está acima de 70%."
      ]
    }
  ],
  "metadata": {
    "colab": {
      "provenance": []
    },
    "kernelspec": {
      "display_name": "venv",
      "language": "python",
      "name": "python3"
    },
    "language_info": {
      "codemirror_mode": {
        "name": "ipython",
        "version": 3
      },
      "file_extension": ".py",
      "mimetype": "text/x-python",
      "name": "python",
      "nbconvert_exporter": "python",
      "pygments_lexer": "ipython3",
      "version": "3.12.6"
    }
  },
  "nbformat": 4,
  "nbformat_minor": 0
}
