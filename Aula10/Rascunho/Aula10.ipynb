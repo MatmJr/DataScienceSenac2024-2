{
  "cells": [
    {
      "cell_type": "markdown",
      "metadata": {},
      "source": [
        "O processo de preparar dados para análise é chamado de \"data wrangling\" e geralmente ocupa a maior parte do tempo de um analista em um projeto de dados. Alguns dos problemas comuns incluem:\n",
        "\n",
        "- Dados ausentes ou valores incorretos/problemas no conjunto de dados;\n",
        "- Dados formatados de maneira inadequada, impedindo o trabalho adequado do analista;\n",
        "- Dados distribuídos em vários arquivos ou tabelas;\n",
        "- Dados no formato incorreto para análise e visualização.\n",
        "\n",
        "Você está aprendendo a trabalhar com o pandas porque ele pode lidar com todas essas tarefas de forma flexível. Neste notebook, abordaremos exemplos básicos de como isso funciona, que você aplicará nos exercícios ao final. O dataset utilizado será o College Scorecard, do Departamento de Educação dos EUA."
      ]
    },
    {
      "cell_type": "code",
      "execution_count": 4,
      "metadata": {
        "colab": {
          "base_uri": "https://localhost:8080/"
        },
        "id": "YZ6lYP2F63bJ",
        "outputId": "0d16d300-9c35-45c3-cc7a-fb89d159cf12"
      },
      "outputs": [
        {
          "data": {
            "text/plain": [
              "(7804, 122)"
            ]
          },
          "execution_count": 4,
          "metadata": {},
          "output_type": "execute_result"
        }
      ],
      "source": [
        "import pandas as pd\n",
        "\n",
        "url = 'http://personal.tcu.edu/kylewalker/data/colleges.csv'\n",
        "data = pd.read_csv(url, encoding = 'latin_1')\n",
        "data.shape"
      ]
    },
    {
      "cell_type": "markdown",
      "metadata": {},
      "source": [
        "Observamos que nosso conjunto de dados possui mais de 7800 linhas e 122 colunas! Neste ponto, embora você ainda não saiba quais insights estão contidos nos dados, já deve ter uma ideia das perguntas de pesquisa que lhe interessam. Como essas perguntas provavelmente não exigem todas as 122 colunas, é seguro restringir o conjunto de dados apenas às colunas necessárias para sua análise. Nossa principal pergunta de pesquisa é:\n",
        "\n",
        "**Como a proporção de estudantes alunos de graduação com 25 anos ou mais varia entre faculdades e universidades que possuem bacharelado?**\n",
        "\n",
        "Para responder a essa pergunta, precisamos identificar algumas colunas essenciais e filtrar os dados de acordo. As colunas que manteremos são as seguintes:\n",
        "\n",
        "- **INSTNM**: Nome da instituição;\n",
        "- **STABBR**: Estado onde a instituição está localizada;\n",
        "- **PREDDEG**: Tipo principal de diploma concedido pela instituição (códigos: 1 para certificados, 2 para diplomas de associado, 3 para bacharelados e 4 para pós-graduação);\n",
        "- **CONTROL**: Propriedade da instituição (códigos: 1 para pública sem fins lucrativos, 2 para privada sem fins lucrativos, e 3 para privada com fins lucrativos);\n",
        "- **UGDS**: Número de alunos de graduação matriculados na instituição;\n",
        "- **UG25abv**: Percentual de alunos de graduação com 25 anos ou mais na instituição.\n"
      ]
    },
    {
      "cell_type": "code",
      "execution_count": 5,
      "metadata": {},
      "outputs": [],
      "source": [
        "cols = ['INSTNM', 'STABBR', 'PREDDEG', 'CONTROL', 'UGDS', 'UG25abv']\n",
        "df = data.filter(cols)"
      ]
    },
    {
      "cell_type": "markdown",
      "metadata": {},
      "source": [
        "Existem, pequenas coisas que você pode fazer no DataFrame diretamente para facilitar o trabalho. Por exemplo, não quero ter que ativar o Caps Lock ou pressionar Shift toda vez que digitar nomes de colunas, mas os nomes das colunas no meu DataFrame estão em maiúsculas. Como os nomes das colunas são simplesmente uma lista de strings, podemos usar métodos de string para manipulá-las. Podemos, por exemplo, usar compreensão de lista para converter todos os nomes de colunas em minúsculas:"
      ]
    },
    {
      "cell_type": "code",
      "execution_count": 7,
      "metadata": {},
      "outputs": [
        {
          "data": {
            "text/html": [
              "<div>\n",
              "<style scoped>\n",
              "    .dataframe tbody tr th:only-of-type {\n",
              "        vertical-align: middle;\n",
              "    }\n",
              "\n",
              "    .dataframe tbody tr th {\n",
              "        vertical-align: top;\n",
              "    }\n",
              "\n",
              "    .dataframe thead th {\n",
              "        text-align: right;\n",
              "    }\n",
              "</style>\n",
              "<table border=\"1\" class=\"dataframe\">\n",
              "  <thead>\n",
              "    <tr style=\"text-align: right;\">\n",
              "      <th></th>\n",
              "      <th>instnm</th>\n",
              "      <th>stabbr</th>\n",
              "      <th>preddeg</th>\n",
              "      <th>control</th>\n",
              "      <th>ugds</th>\n",
              "      <th>ug25abv</th>\n",
              "    </tr>\n",
              "  </thead>\n",
              "  <tbody>\n",
              "    <tr>\n",
              "      <th>0</th>\n",
              "      <td>Alabama A &amp; M University</td>\n",
              "      <td>AL</td>\n",
              "      <td>3</td>\n",
              "      <td>1</td>\n",
              "      <td>4051.0</td>\n",
              "      <td>0.1049</td>\n",
              "    </tr>\n",
              "    <tr>\n",
              "      <th>1</th>\n",
              "      <td>University of Alabama at Birmingham</td>\n",
              "      <td>AL</td>\n",
              "      <td>3</td>\n",
              "      <td>1</td>\n",
              "      <td>11200.0</td>\n",
              "      <td>0.2422</td>\n",
              "    </tr>\n",
              "    <tr>\n",
              "      <th>2</th>\n",
              "      <td>Amridge University</td>\n",
              "      <td>AL</td>\n",
              "      <td>3</td>\n",
              "      <td>2</td>\n",
              "      <td>322.0</td>\n",
              "      <td>0.8540</td>\n",
              "    </tr>\n",
              "    <tr>\n",
              "      <th>3</th>\n",
              "      <td>University of Alabama in Huntsville</td>\n",
              "      <td>AL</td>\n",
              "      <td>3</td>\n",
              "      <td>1</td>\n",
              "      <td>5525.0</td>\n",
              "      <td>0.2640</td>\n",
              "    </tr>\n",
              "    <tr>\n",
              "      <th>4</th>\n",
              "      <td>Alabama State University</td>\n",
              "      <td>AL</td>\n",
              "      <td>3</td>\n",
              "      <td>1</td>\n",
              "      <td>5354.0</td>\n",
              "      <td>0.1270</td>\n",
              "    </tr>\n",
              "  </tbody>\n",
              "</table>\n",
              "</div>"
            ],
            "text/plain": [
              "                                instnm stabbr  preddeg  control     ugds  \\\n",
              "0             Alabama A & M University     AL        3        1   4051.0   \n",
              "1  University of Alabama at Birmingham     AL        3        1  11200.0   \n",
              "2                   Amridge University     AL        3        2    322.0   \n",
              "3  University of Alabama in Huntsville     AL        3        1   5525.0   \n",
              "4             Alabama State University     AL        3        1   5354.0   \n",
              "\n",
              "   ug25abv  \n",
              "0   0.1049  \n",
              "1   0.2422  \n",
              "2   0.8540  \n",
              "3   0.2640  \n",
              "4   0.1270  "
            ]
          },
          "execution_count": 7,
          "metadata": {},
          "output_type": "execute_result"
        }
      ],
      "source": [
        "df.columns = [col.lower() for col in df.columns]\n",
        "df.head()"
      ]
    },
    {
      "cell_type": "markdown",
      "metadata": {},
      "source": [
        "Também podemos modificar os nomes das colunas do DataFrame individualmente ou passando uma lista de novos nomes. Por exemplo, \"state\" faz mais sentido do que \"stabbr\" e \"institution\" é mais claro do que \"instnm\". O código abaixo realiza essas mudanças:"
      ]
    },
    {
      "cell_type": "code",
      "execution_count": 8,
      "metadata": {},
      "outputs": [],
      "source": [
        "df.rename(columns={'stabbr': 'state', 'instnm': 'institution'}, inplace=True)\n",
        "df.head()"
      ]
    },
    {
      "cell_type": "markdown",
      "metadata": {},
      "source": [
        "O método rename usa um dicionário para fazer as alterações nas colunas. Como é uma mudança menor, utilizamos inplace=True para modificar o DataFrame diretamente.\n",
        "\n",
        "Agora, queremos filtrar os dados para universidades que concedem bacharelado (código 3 na coluna preddeg). Primeiro, verificamos o tipo de dado dessa coluna com:"
      ]
    },
    {
      "cell_type": "code",
      "execution_count": 11,
      "metadata": {},
      "outputs": [
        {
          "name": "stdout",
          "output_type": "stream",
          "text": [
            "<class 'pandas.core.frame.DataFrame'>\n",
            "RangeIndex: 7804 entries, 0 to 7803\n",
            "Data columns (total 6 columns):\n",
            " #   Column       Non-Null Count  Dtype  \n",
            "---  ------       --------------  -----  \n",
            " 0   institution  7804 non-null   object \n",
            " 1   state        7804 non-null   object \n",
            " 2   preddeg      7804 non-null   int64  \n",
            " 3   control      7804 non-null   int64  \n",
            " 4   ugds         7090 non-null   float64\n",
            " 5   ug25abv      7031 non-null   float64\n",
            "dtypes: float64(2), int64(2), object(2)\n",
            "memory usage: 365.9+ KB\n"
          ]
        }
      ],
      "source": [
        "df.info()"
      ]
    },
    {
      "cell_type": "markdown",
      "metadata": {},
      "source": [
        "A coluna `preddeg` parece ser um número inteiro, então trabalharemos com seus valores como números. Nas aulas passadas usamos :\n",
        "\n",
        "```python\n",
        "new_df = df[df['preddeg']==3]\n",
        "\n",
        "```\n",
        "\n",
        "Para filtrar linhas no pandas, podemos usar o método `.query()`, que avalia uma expressão com operadores lógicos/booleanos. O método retorna as linhas onde a expressão é verdadeira e descarta as demais. Neste caso, queremos as linhas onde `preddeg` é igual a 3. Vamos criar um novo DataFrame chamado `new_df` com essa expressão:"
      ]
    },
    {
      "cell_type": "code",
      "execution_count": 28,
      "metadata": {},
      "outputs": [
        {
          "data": {
            "text/plain": [
              "2133"
            ]
          },
          "execution_count": 28,
          "metadata": {},
          "output_type": "execute_result"
        }
      ],
      "source": [
        "newDf = df.query('preddeg == 3')\n",
        "len(newDf)"
      ]
    },
    {
      "cell_type": "markdown",
      "metadata": {},
      "source": [
        "No pandas, dados ausentes podem ser representados como NaN (do NumPy) ou None (do Python). Para detectar esses valores, podemos usar os métodos .isnull() ou .isna(). Vamos consultar nosso DataFrame de graduação (new_df) para verificar quantas linhas possuem valores ausentes na coluna ug25abv. Podemos usar o argumento engine='python' para executar o método dentro da expressão:"
      ]
    },
    {
      "cell_type": "code",
      "execution_count": 29,
      "metadata": {},
      "outputs": [
        {
          "data": {
            "text/plain": [
              "(36, 6)"
            ]
          },
          "execution_count": 29,
          "metadata": {},
          "output_type": "execute_result"
        }
      ],
      "source": [
        "newDf_null = newDf.query('ug25abv.isnull()', engine='python')\n",
        "newDf_null.shape"
      ]
    },
    {
      "cell_type": "markdown",
      "metadata": {},
      "source": [
        "E os valores não nulos:"
      ]
    },
    {
      "cell_type": "code",
      "execution_count": 30,
      "metadata": {},
      "outputs": [
        {
          "data": {
            "text/plain": [
              "(2097, 6)"
            ]
          },
          "execution_count": 30,
          "metadata": {},
          "output_type": "execute_result"
        }
      ],
      "source": [
        "df_nonull = newDf.query('ug25abv.notna()')\n",
        "df_nonull.shape"
      ]
    },
    {
      "cell_type": "markdown",
      "metadata": {},
      "source": [
        "Uma abodagem muito importante em análise de dadoos é a \"split-apply-combine\", que envolve:\n",
        "\n",
        "1. Dividir os dados em grupos com base em uma característica comum;\n",
        "2. Aplicar uma função a cada grupo;\n",
        "3. Combinar os resultados para permitir comparações entre grupos.\n",
        "\n",
        "Essa abordagem é muito poderosa e comum na análise de dados. Vamos usar essa técnica para responder às seguintes perguntas:\n",
        "\n",
        "- Como a proporção de estudantes de graduação acima de 25 anos varia entre universidades públicas, privadas e com fins lucrativos?\n",
        "- Como essa proporção varia conforme o tamanho da instituição?\n",
        "\n",
        "A análise por grupo no pandas é feita criando um objeto `groupby`. Para a primeira pergunta, agruparemos os dados por tipo de instituição. O código abaixo faz isso:"
      ]
    },
    {
      "cell_type": "code",
      "execution_count": 37,
      "metadata": {},
      "outputs": [
        {
          "data": {
            "text/plain": [
              "<pandas.core.groupby.generic.DataFrameGroupBy object at 0x0000012617B93710>"
            ]
          },
          "execution_count": 37,
          "metadata": {},
          "output_type": "execute_result"
        }
      ],
      "source": [
        "group = df_nonull.groupby('control')\n",
        "group"
      ]
    },
    {
      "cell_type": "code",
      "execution_count": 38,
      "metadata": {},
      "outputs": [
        {
          "data": {
            "text/plain": [
              "control\n",
              "1    0.215475\n",
              "2    0.235799\n",
              "3    0.670381\n",
              "Name: ug25abv, dtype: float64"
            ]
          },
          "execution_count": 38,
          "metadata": {},
          "output_type": "execute_result"
        }
      ],
      "source": [
        "group['ug25abv'].mean()"
      ]
    },
    {
      "cell_type": "markdown",
      "metadata": {},
      "source": [
        "Muito interessante — enquanto universidades públicas e privadas sem fins lucrativos têm composições de idade semelhantes, com 21-23% de seus alunos acima de 25 anos, as universidades privadas com fins lucrativos são bem diferentes, com mais de dois terços dos alunos nessa faixa etária.\n",
        "\n",
        "Vamos visualizar isso usando o Seaborn, que é ótimo para análises por grupo. Gráficos como box plots e violin plots podem ser usados para comparar grupos, bastando especificar uma segunda coluna para o gráfico.\n",
        "\n",
        "Exemplo de como fazer isso:"
      ]
    },
    {
      "cell_type": "code",
      "execution_count": 42,
      "metadata": {},
      "outputs": [
        {
          "data": {
            "text/plain": [
              "<Axes: xlabel='control', ylabel='ug25abv'>"
            ]
          },
          "execution_count": 42,
          "metadata": {},
          "output_type": "execute_result"
        },
        {
          "data": {
            "image/png": "[encoded data removed]",
            "text/plain": [
              "<Figure size 640x480 with 1 Axes>"
            ]
          },
          "metadata": {},
          "output_type": "display_data"
        }
      ],
      "source": [
        "import seaborn as sns\n",
        "\n",
        "sns.set_theme(style = \"darkgrid\")\n",
        "\n",
        "sns.boxplot(data = df_nonull, x = 'control', y = 'ug25abv')"
      ]
    },
    {
      "cell_type": "markdown",
      "metadata": {},
      "source": [
        "Aqui podemos ver claramente as variações nas distribuições entre os grupos. Embora a média de estudantes acima de 25 anos nas instituições públicas sem fins lucrativos seja menor do que nas privadas sem fins lucrativos, parece que a mediana nas privadas sem fins lucrativos é ainda mais baixa, com uma cauda mais longa de instituições com uma grande proporção de alunos acima de 25 anos. Já nas privadas com fins lucrativos, a mediana está acima de 70%."
      ]
    }
  ],
  "metadata": {
    "colab": {
      "provenance": []
    },
    "kernelspec": {
      "display_name": "venv",
      "language": "python",
      "name": "python3"
    },
    "language_info": {
      "codemirror_mode": {
        "name": "ipython",
        "version": 3
      },
      "file_extension": ".py",
      "mimetype": "text/x-python",
      "name": "python",
      "nbconvert_exporter": "python",
      "pygments_lexer": "ipython3",
      "version": "3.11.9"
    }
  },
  "nbformat": 4,
  "nbformat_minor": 0
}
