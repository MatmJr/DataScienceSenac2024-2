{
  "cells": [
    {
      "cell_type": "code",
      "execution_count": 3,
      "metadata": {
        "colab": {
          "base_uri": "https://localhost:8080/"
        },
        "id": "YZ6lYP2F63bJ",
        "outputId": "0d16d300-9c35-45c3-cc7a-fb89d159cf12"
      },
      "outputs": [
        {
          "name": "stdout",
          "output_type": "stream",
          "text": [
            "<class 'pandas.core.frame.DataFrame'>\n",
            "RangeIndex: 11000 entries, 0 to 10999\n",
            "Data columns (total 12 columns):\n",
            " #   Column                   Non-Null Count  Dtype \n",
            "---  ------                   --------------  ----- \n",
            " 0   ID                       11000 non-null  int64 \n",
            " 1   corredor_armazem         11000 non-null  object\n",
            " 2   modo_envio               11000 non-null  object\n",
            " 3   numero_chamadas_cliente  11000 non-null  int64 \n",
            " 4   avaliacao_cliente        11000 non-null  int64 \n",
            " 5   custo_produto            11000 non-null  int64 \n",
            " 6   compras_anteriores       11000 non-null  int64 \n",
            " 7   prioridade_produto       11000 non-null  object\n",
            " 8   genero                   11000 non-null  object\n",
            " 9   desconto                 11000 non-null  int64 \n",
            " 10  peso_gramas              11000 non-null  int64 \n",
            " 11  entregue_no_prazo        11000 non-null  int64 \n",
            "dtypes: int64(8), object(4)\n",
            "memory usage: 1.0+ MB\n"
          ]
        }
      ],
      "source": [
        "import pandas as pd\n",
        "\n",
        "url = \"https://drive.google.com/uc?id=1inLJ0QY0vOhD_2CKujdLEUvF4MnPbAi5\"\n",
        "ecom = pd.read_csv(url)\n",
        "ecom.info()"
      ]
    },
    {
      "cell_type": "markdown",
      "metadata": {
        "id": "cputBZMx63bM"
      },
      "source": [
        "Verificar as informações do conjunto de dados"
      ]
    },
    {
      "cell_type": "code",
      "execution_count": null,
      "metadata": {
        "colab": {
          "base_uri": "https://localhost:8080/"
        },
        "id": "RGhHO7oQ63bO",
        "outputId": "3f82a443-7068-4819-b9cd-720279e244dc"
      },
      "outputs": [
        {
          "name": "stdout",
          "output_type": "stream",
          "text": [
            "<class 'pandas.core.frame.DataFrame'>\n",
            "RangeIndex: 11000 entries, 0 to 10999\n",
            "Data columns (total 12 columns):\n",
            " #   Column                   Non-Null Count  Dtype \n",
            "---  ------                   --------------  ----- \n",
            " 0   ID                       11000 non-null  int64 \n",
            " 1   corredor_armazem         11000 non-null  object\n",
            " 2   modo_envio               11000 non-null  object\n",
            " 3   numero_chamadas_cliente  11000 non-null  int64 \n",
            " 4   avaliacao_cliente        11000 non-null  int64 \n",
            " 5   custo_produto            11000 non-null  int64 \n",
            " 6   compras_anteriores       11000 non-null  int64 \n",
            " 7   prioridade_produto       11000 non-null  object\n",
            " 8   genero                   11000 non-null  object\n",
            " 9   desconto                 11000 non-null  int64 \n",
            " 10  peso_gramas              11000 non-null  int64 \n",
            " 11  entregue_no_prazo        11000 non-null  int64 \n",
            "dtypes: int64(8), object(4)\n",
            "memory usage: 1.0+ MB\n"
          ]
        }
      ],
      "source": []
    },
    {
      "cell_type": "code",
      "execution_count": null,
      "metadata": {
        "colab": {
          "base_uri": "https://localhost:8080/"
        },
        "id": "jYPP4Bp3sLcL",
        "outputId": "ccb24217-d760-4c2d-badc-87ac0a392b8c"
      },
      "outputs": [
        {
          "data": {
            "text/plain": [
              "array([2, 5, 3, 1, 4])"
            ]
          },
          "execution_count": 4,
          "metadata": {},
          "output_type": "execute_result"
        }
      ],
      "source": []
    },
    {
      "cell_type": "markdown",
      "metadata": {
        "id": "uClYe6hJ63bO"
      },
      "source": [
        "## Análise Exploratória\n",
        "\n",
        "### Separação de Variáveis numéricas das variáveis categóricas"
      ]
    },
    {
      "cell_type": "code",
      "execution_count": null,
      "metadata": {
        "id": "rBb0-wQM63bO"
      },
      "outputs": [],
      "source": [
        "nums = ['numero_chamadas_cliente', 'custo_produto', 'compras_anteriores', 'desconto', 'peso_gramas']"
      ]
    },
    {
      "cell_type": "code",
      "execution_count": null,
      "metadata": {
        "id": "xggUuRYf63bP"
      },
      "outputs": [],
      "source": [
        "categ = ['corredor_armazem', 'modo_envio', 'avaliacao_cliente', 'prioridade_produto', 'genero']"
      ]
    },
    {
      "cell_type": "code",
      "execution_count": null,
      "metadata": {
        "id": "wYWlHU9G63bP"
      },
      "outputs": [],
      "source": [
        "target = ['entregue_no_prazo']"
      ]
    },
    {
      "cell_type": "markdown",
      "metadata": {
        "id": "F2ZIVN_Y63bP"
      },
      "source": [
        "Para as variáveis numéricas podemos usar o método describe para ver um resumo dos dados."
      ]
    },
    {
      "cell_type": "code",
      "execution_count": null,
      "metadata": {
        "id": "O9K69VeYeWJT"
      },
      "outputs": [],
      "source": []
    },
    {
      "cell_type": "code",
      "execution_count": 3,
      "metadata": {
        "id": "s0A4ku6PgHo0"
      },
      "outputs": [],
      "source": []
    },
    {
      "cell_type": "code",
      "execution_count": 3,
      "metadata": {
        "id": "viGnWms9iC_c"
      },
      "outputs": [],
      "source": []
    },
    {
      "cell_type": "code",
      "execution_count": 3,
      "metadata": {
        "id": "O50fEzFF63bP"
      },
      "outputs": [],
      "source": []
    },
    {
      "cell_type": "markdown",
      "metadata": {
        "id": "z1WGqNQn63bQ"
      },
      "source": [
        "Para as variáveis categóricas isso não faz muito sentido, então devemos procurar outras formas de descrever o conjunto de dados."
      ]
    },
    {
      "cell_type": "code",
      "execution_count": 3,
      "metadata": {
        "id": "NFokAlrn63bQ"
      },
      "outputs": [],
      "source": []
    },
    {
      "cell_type": "code",
      "execution_count": 3,
      "metadata": {
        "id": "nTLy_YsskpFe"
      },
      "outputs": [],
      "source": []
    },
    {
      "cell_type": "code",
      "execution_count": null,
      "metadata": {
        "id": "Aj2GIlELjcXJ"
      },
      "outputs": [],
      "source": []
    },
    {
      "cell_type": "code",
      "execution_count": 3,
      "metadata": {
        "id": "cVHpukCxk3O5"
      },
      "outputs": [],
      "source": []
    },
    {
      "cell_type": "markdown",
      "metadata": {
        "id": "lxkoIaFf63bQ"
      },
      "source": [
        "Obtendo informações do nosso target"
      ]
    },
    {
      "cell_type": "code",
      "execution_count": 3,
      "metadata": {
        "id": "q69ktVm363bQ"
      },
      "outputs": [],
      "source": []
    },
    {
      "cell_type": "markdown",
      "metadata": {
        "id": "sILf370z63bQ"
      },
      "source": [
        "## Limpeza de Dados\n",
        "\n",
        "Vamos começar checando os Null e NaN."
      ]
    },
    {
      "cell_type": "code",
      "execution_count": 3,
      "metadata": {
        "id": "WdaxDxIT63bR"
      },
      "outputs": [],
      "source": []
    },
    {
      "cell_type": "code",
      "execution_count": 3,
      "metadata": {
        "id": "tvAEcE1X63bR"
      },
      "outputs": [],
      "source": []
    },
    {
      "cell_type": "markdown",
      "metadata": {
        "id": "SoRnhQ5p63bR"
      },
      "source": [
        "Não existem valores ausentes e 'Not a Number' no conjunto de dados, mas será que nossos problemas estão resolvidos ?\n",
        "\n",
        "Também podemos checar registros duplicados."
      ]
    },
    {
      "cell_type": "code",
      "execution_count": 3,
      "metadata": {
        "id": "p1Zm8yqW63bR"
      },
      "outputs": [],
      "source": []
    },
    {
      "cell_type": "markdown",
      "metadata": {
        "id": "xvaE6a5O63bR"
      },
      "source": [
        "### Estudo de Outliers\n",
        "\n",
        "Outliers são pontos de dados que se distanciam significativamente dos demais em um conjunto, representando valores incomuns. Esses valores atípicos podem afetar análises estatísticas, possivelmente ocultando descobertas importantes ou distorcendo resultados. A identificação de outliers não segue regras estatísticas rígidas, dependendo mais do conhecimento específico da área e da análise do processo de coleta de dados. Embora não haja uma definição matemática precisa, métodos e testes estatísticos ajudam a detectar esses pontos discrepantes, que são cruciais por seu potencial de impactar análises estatísticas adversamente.\n",
        "\n",
        "Vamos começar a análise olhando outra vez para as variáveis numéricas"
      ]
    },
    {
      "cell_type": "code",
      "execution_count": 3,
      "metadata": {
        "id": "_xGmpNQ_63bR"
      },
      "outputs": [],
      "source": []
    },
    {
      "cell_type": "markdown",
      "metadata": {
        "id": "bWPy7Ucv63bR"
      },
      "source": [
        "O atributo desconto está com características interessantes:\n",
        "\n",
        " - a média(mean): 13.372545\n",
        " - o desvio-padrão(std): 16.204943\n",
        " - o menor desconto (min): 1.000000\n",
        " - o maior desconto (max): 65.00000\n",
        "\n",
        " Além disso 75% dos produtos estão com desconto menor do que 10%, ou seja, a maioria dos produtos está com desconto de até 10%, assim podemos concluir que descontos muito maiores que 10% podem sem outliers."
      ]
    },
    {
      "cell_type": "code",
      "execution_count": null,
      "metadata": {
        "id": "I4VtYZ3763bS"
      },
      "outputs": [],
      "source": []
    },
    {
      "cell_type": "markdown",
      "metadata": {
        "id": "XW57e4Ck63bS"
      },
      "source": [
        "Para aprimorar a análise de outliers, uma técnica é calcular o limite em que observações podem ser consideradas atípicas usando a fórmula:\n",
        "\n",
        "Limite = média ± 3*desvio padrão.\n",
        "\n",
        "Esse método baseia-se na regra empírica, **presumindo que os dados seguem uma distribuição normal**, onde aproximadamente 99,7% dos dados encontram-se dentro de três desvios padrão da média. Observações fora desse limite são potencialmente outliers, sugerindo variações atípicas que podem necessitar de investigação adicional para determinar suas causas ou validade."
      ]
    },
    {
      "cell_type": "code",
      "execution_count": 3,
      "metadata": {
        "id": "16KtWBsW63bS"
      },
      "outputs": [],
      "source": []
    },
    {
      "cell_type": "code",
      "execution_count": 3,
      "metadata": {
        "id": "b177APHV2sBF"
      },
      "outputs": [],
      "source": []
    },
    {
      "cell_type": "markdown",
      "metadata": {
        "id": "B82PJDPC63bS"
      },
      "source": [
        "Determinando os Outliers:"
      ]
    },
    {
      "cell_type": "code",
      "execution_count": null,
      "metadata": {
        "id": "KSaU5D2o63bS"
      },
      "outputs": [],
      "source": []
    },
    {
      "cell_type": "code",
      "execution_count": null,
      "metadata": {
        "id": "2ntp4U-JsWZt"
      },
      "outputs": [],
      "source": []
    },
    {
      "cell_type": "code",
      "execution_count": 3,
      "metadata": {
        "id": "gxUSSM2p63bS"
      },
      "outputs": [],
      "source": []
    },
    {
      "cell_type": "markdown",
      "metadata": {
        "id": "8m_14b2_63bS"
      },
      "source": [
        "Podemos determinar o conjunto dos valores sem outliers com a negação da operação acima:"
      ]
    },
    {
      "cell_type": "code",
      "execution_count": 3,
      "metadata": {
        "id": "nYTwcg1663bS"
      },
      "outputs": [],
      "source": []
    },
    {
      "cell_type": "code",
      "execution_count": 3,
      "metadata": {
        "id": "M27ERpFE63bT"
      },
      "outputs": [],
      "source": []
    },
    {
      "cell_type": "markdown",
      "metadata": {
        "id": "Czeq2URc63bT"
      },
      "source": [
        "Agora podemos olhar para o describe da variável desconto"
      ]
    },
    {
      "cell_type": "code",
      "execution_count": null,
      "metadata": {
        "id": "P4uZzwXI63bT"
      },
      "outputs": [],
      "source": []
    },
    {
      "cell_type": "markdown",
      "metadata": {
        "id": "U2hnttD_63bT"
      },
      "source": [
        "**Exercício:** Usando outras ferramentas para resolver o mesmo problema:\n",
        "\n",
        "Vamos usar a biblioteca SciPy para resolver esse problema"
      ]
    },
    {
      "cell_type": "code",
      "execution_count": 3,
      "metadata": {
        "id": "P2LzRyCp63bT"
      },
      "outputs": [],
      "source": []
    },
    {
      "cell_type": "code",
      "execution_count": 3,
      "metadata": {
        "id": "m_yFeyIW63bT"
      },
      "outputs": [],
      "source": []
    },
    {
      "cell_type": "code",
      "execution_count": 3,
      "metadata": {
        "id": "6nSS8v2hyBXw"
      },
      "outputs": [],
      "source": []
    },
    {
      "cell_type": "code",
      "execution_count": 3,
      "metadata": {
        "id": "3rO4IxH_ytnX"
      },
      "outputs": [],
      "source": []
    }
  ],
  "metadata": {
    "colab": {
      "provenance": []
    },
    "kernelspec": {
      "display_name": "venv",
      "language": "python",
      "name": "python3"
    },
    "language_info": {
      "codemirror_mode": {
        "name": "ipython",
        "version": 3
      },
      "file_extension": ".py",
      "mimetype": "text/x-python",
      "name": "python",
      "nbconvert_exporter": "python",
      "pygments_lexer": "ipython3",
      "version": "3.11.8"
    }
  },
  "nbformat": 4,
  "nbformat_minor": 0
}
